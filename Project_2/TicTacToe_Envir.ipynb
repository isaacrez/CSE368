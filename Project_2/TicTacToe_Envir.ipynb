{
  "nbformat": 4,
  "nbformat_minor": 0,
  "metadata": {
    "colab": {
      "name": "TicTacToe_Envir.ipynb",
      "version": "0.3.2",
      "provenance": [],
      "collapsed_sections": []
    },
    "kernelspec": {
      "name": "python3",
      "display_name": "Python 3"
    }
  },
  "cells": [
    {
      "cell_type": "code",
      "metadata": {
        "id": "Q80qMYk9MkWt",
        "colab_type": "code",
        "colab": {}
      },
      "source": [
        "import numpy as np\n",
        "import matplotlib.pyplot as plt\n",
        "import pandas as pd\n",
        "\n",
        "import random\n",
        "import time\n",
        "import copy\n",
        "\n",
        "from gym import Env, spaces\n",
        "from gym.utils import seeding"
      ],
      "execution_count": 0,
      "outputs": []
    },
    {
      "cell_type": "markdown",
      "metadata": {
        "id": "-r6tDJ1omco0",
        "colab_type": "text"
      },
      "source": [
        "# Helper Functions\n",
        "\n",
        "The following functions are used thoroughout the code:\n",
        "\n",
        "> **findOpenSpaces**(state): *Returns all unused tiles in the provided board state*\n",
        "\n",
        "> **compStates**(state): *Determines if the state is present in the list provided*\n",
        "\n",
        "> **checkWin**(state): *Determines if the state is terminal, and the winner.  Returns a list of True / False.*\n",
        "\n",
        "> **isWinnerMe**(marker): *Returns True if the marker is 1, returns False is the marker is -1*\n",
        "\n",
        "> **findStateID**(state): *Searches through all states to find the index of the provided state*\n",
        "\n",
        "> **printBoard**(state): *Prints the provided state in a user-friendly manner*"
      ]
    },
    {
      "cell_type": "code",
      "metadata": {
        "id": "53-FaUqcng93",
        "colab_type": "code",
        "colab": {}
      },
      "source": [
        "# Helper Functions\n",
        "\n",
        "def findOpenSpaces(state):\n",
        "  # Returns all coordinates for 0's in a grid\n",
        "  coords = []\n",
        "  x, y = -1, -1\n",
        "  for row in state:\n",
        "    x += 1\n",
        "    y = -1\n",
        "    for num in row:\n",
        "      y += 1\n",
        "      if num == 0:\n",
        "        coords.append((x, y))\n",
        "  return coords\n",
        "\n",
        "# Returns true if state is unique in all_states\n",
        "def compStates(state, all_states):\n",
        "  for cState in all_states:\n",
        "    if (state == cState).all():\n",
        "      return False\n",
        "  return True\n",
        "\n",
        "# Checks if a state is terminal\n",
        "#  Returns [isGameFinished, isXwinner]\n",
        "def checkWin(state):\n",
        "  # Check horizontal / vertical\n",
        "  c = [0, 0, 0]\n",
        "  for x in range(0, 3):\n",
        "    c[0] = 0\n",
        "    c[1] = 0\n",
        "    for y in range(0, 3):\n",
        "      if state[x][1] != 0:\n",
        "        if state[x][y] == state[x][1]:\n",
        "          c[0] += 1\n",
        "          if c[0] == 3:\n",
        "            return [True, isWinnerMe(state[x][1])]\n",
        "      if state[1][x] != 0:\n",
        "        if state[y][x] == state[1][x]:\n",
        "          c[1] += 1\n",
        "          if c[1] == 3:\n",
        "            return [True, isWinnerMe(state[1][x])]\n",
        "      if state[x][y] != 0:\n",
        "        c[2] += 1\n",
        "  \n",
        "  # Check diagonal\n",
        "  if state[1][1] != 0:\n",
        "    if state[0][0] == state[1][1] == state[2][2]:\n",
        "      return [True, isWinnerMe(state[1][1])]\n",
        "    elif state[0][2] == state[1][1] == state[2][0]:\n",
        "      return [True, isWinnerMe(state[1][1])]\n",
        "  \n",
        "  # Check if there's any empty tiles\n",
        "  if c[2] == 9:\n",
        "    return [True, False]\n",
        "  \n",
        "  return [False, False]\n",
        "\n",
        "# Checks if 'x' or 'o' won, used to increase readability\n",
        "def isWinnerMe(marker):\n",
        "  if marker == 1:\n",
        "    return True\n",
        "  else:\n",
        "    return False\n",
        "  \n",
        "def findStateID(state):\n",
        "  s = 0\n",
        "  for cState in DFS_states:\n",
        "    if (state == cState).all():\n",
        "      return s\n",
        "    s += 1\n",
        "              \n",
        "# Prints the board in a human-friendly manner\n",
        "def printBoard(states):\n",
        "  s = 0\n",
        "  \n",
        "  # Loop through all states provided\n",
        "  for state in states:\n",
        "    print('\\n')\n",
        "    s += 1\n",
        "    c = 0\n",
        "    \n",
        "    # Loop through the entire board\n",
        "    for row in state:\n",
        "      c += 1\n",
        "      string = ''\n",
        "      for val in row:\n",
        "        \n",
        "        # Add the appropriate character\n",
        "        if val == -1:\n",
        "          string = string + 'o'\n",
        "        elif val == 1:\n",
        "          string = string + 'x'\n",
        "        else:\n",
        "          string = string + ' '\n",
        "        string = string + '|'\n",
        "        \n",
        "      # Chop off the extra |\n",
        "      string = string[:-1]\n",
        "      print(string)\n",
        "      \n",
        "      # Lines between layers\n",
        "      if c != 3:\n",
        "        print('-'*5)"
      ],
      "execution_count": 0,
      "outputs": []
    },
    {
      "cell_type": "markdown",
      "metadata": {
        "id": "VbR7D3VA_AjK",
        "colab_type": "text"
      },
      "source": [
        "# Finding States\n",
        "In order to build an RL environment, we need to be able to map from an index to a specific state.  All states must be accounted for.\n",
        "\n",
        "There are two approaches:\n",
        "> **Random**: Develop a complete list of all configurations, including post-terminal states.\n",
        "\n",
        "> **Distributed DFS**: Develop a complete list of all configurations, only up to terminal states"
      ]
    },
    {
      "cell_type": "code",
      "metadata": {
        "id": "8iwgXCHvb55S",
        "colab_type": "code",
        "colab": {}
      },
      "source": [
        "rdm_states = []\n",
        "\n",
        "# 1 is x\n",
        "# -1 is o\n",
        "# 0 is empty\n",
        "def findStates(state, turn):\n",
        "  # Check that this state is unique\n",
        "  if compStates(state, rdm_states):\n",
        "    # If it does, add this state to the list\n",
        "    rdm_states.append(state)\n",
        "    # And expand it\n",
        "    coords = findOpenSpaces(state)\n",
        "    for co in coords:\n",
        "      nState = copy.deepcopy(state)\n",
        "      nState[co] = turn\n",
        "      findStates(nState, turn*-1)\n",
        "\n",
        "# Uncomment below for runtime information:      \n",
        "\n",
        "# start = time.process_time()\n",
        "\n",
        "# findStates(np.zeros((3, 3), dtype=int), 1)\n",
        "\n",
        "# required_t = time.process_time() - start\n",
        "# print(required_t)"
      ],
      "execution_count": 0,
      "outputs": []
    },
    {
      "cell_type": "code",
      "metadata": {
        "id": "PNXJQmokMDsH",
        "colab_type": "code",
        "outputId": "fa6422d0-671c-4d4a-9b31-97c98382e0c6",
        "colab": {
          "base_uri": "https://localhost:8080/",
          "height": 34
        }
      },
      "source": [
        "# DFS approach\n",
        "\n",
        "DFS_states = []\n",
        "\n",
        "def DFS(state, turn):\n",
        "  # Check that this state is unique\n",
        "  if compStates(state, DFS_states):\n",
        "    \n",
        "    # If it is, add to the list\n",
        "    DFS_states.append(state)\n",
        "    \n",
        "    # Check if this state is terminal\n",
        "    if not checkWin(state)[0]:\n",
        "      \n",
        "      # Expand this state\n",
        "      coords = findOpenSpaces(state)\n",
        "      for co in coords:\n",
        "        nState = copy.deepcopy(state)\n",
        "        nState[co] = turn\n",
        "        DFS(nState, turn*-1)\n",
        "\n",
        "start = time.process_time()\n",
        "\n",
        "DFS(np.zeros((3, 3)), 1)\n",
        "\n",
        "required_t = time.process_time() - start\n",
        "print(required_t)"
      ],
      "execution_count": 0,
      "outputs": [
        {
          "output_type": "stream",
          "text": [
            "93.947097623\n"
          ],
          "name": "stdout"
        }
      ]
    },
    {
      "cell_type": "markdown",
      "metadata": {
        "id": "2dtJBrtEu6i2",
        "colab_type": "text"
      },
      "source": [
        "# States Results\n",
        "\n",
        "findState:\n",
        "> *Returns* **6046 states**.  *Required* **120 seconds**, *tested three times.*\n",
        "\n",
        "DFS:\n",
        "> *Returns* **5478 states**.  *Required* **94 seconds**, *tested three times.*\n",
        "\n",
        "Both runtime and storage are better when using a distributed DFS approach (even runtime required per state)\n",
        "\n",
        "***\n",
        "\n",
        "# States Mapping\n",
        "\n",
        "**Objective**: *Quickly access a state*\n",
        "\n",
        "**Options**:\n",
        "\n",
        "> **Brute force**: *Comparing a state to each state in our comprehensive list.  Reduces runtime efficiency, but is easily implemented and has perfect storage.*\n",
        "\n",
        "> **Hashmapping**: *Create a unique mapping of each state to an index.  Wastes storage for runtime efficiency.*\n",
        "\n",
        "Brute force's *worst* runtime is roughly 0.03 seconds (assuming it runs through and compares with *every* state before finding the solution), which makes it an acceptable solution for our purposes."
      ]
    },
    {
      "cell_type": "code",
      "metadata": {
        "id": "nuRG9jRZrvnD",
        "colab_type": "code",
        "outputId": "7bb3e1b5-a9f5-4765-c883-cf4167f626f6",
        "colab": {
          "base_uri": "https://localhost:8080/",
          "height": 170
        }
      },
      "source": [
        "# This is the last possible state\n",
        "finalState = DFS_states[5477:5478]\n",
        "printBoard(finalState)\n",
        "\n",
        "# Function to find the current state\n",
        "def findState(state):\n",
        "  index = 0\n",
        "  for iState in DFS_states:\n",
        "    if (finalState == iState).all():\n",
        "      return index \n",
        "    index += 1\n",
        "\n",
        "# Actual timer\n",
        "start = time.process_time()\n",
        "\n",
        "findState(finalState)\n",
        "\n",
        "required_t = time.process_time() - start\n",
        "print('\\nWorst look-up time: ' + str(required_t))"
      ],
      "execution_count": 0,
      "outputs": [
        {
          "output_type": "stream",
          "text": [
            "\n",
            "\n",
            " | | \n",
            "-----\n",
            " | | \n",
            "-----\n",
            " |o|x\n",
            "\n",
            "Worst look-up time: 0.03390552100000832\n"
          ],
          "name": "stdout"
        }
      ]
    },
    {
      "cell_type": "markdown",
      "metadata": {
        "id": "QNk5BAoK59uN",
        "colab_type": "text"
      },
      "source": [
        "# Create Transitions\n",
        "\n",
        "**Code Block #1**: *Includes all the relevant functions for setting up the transitions, P.*\n",
        "\n",
        "> **storeState**(state): *Stores a given state's transitional information in P*\n",
        "\n",
        "> **determineReward**(oldState, newState): *Returns the numerical reward for transitioning from one state to the next*\n",
        "\n",
        "> *Potential outputs*:\n",
        "\n",
        ">> 15: Win\n",
        "\n",
        ">> -5: Draw / Stays in same state\n",
        "\n",
        ">> -15: Loss\n",
        "\n",
        ">> -1: All other turns\n",
        "\n",
        "> **createNewStates**(state, action): *Generates all new potential states, based on the action taken in a given state.  Returns these new states in a list.*\n",
        "\n",
        "> **findPos**(a): *Converts an action into a list representing coordinates on the tic-tac-toe board*\n",
        "\n",
        "**Code Block #2**: *Updates P, using the helper functions*"
      ]
    },
    {
      "cell_type": "code",
      "metadata": {
        "id": "49LMZ90uk_2w",
        "colab_type": "code",
        "colab": {}
      },
      "source": [
        "# Create P, the transitions information\n",
        "#   P code is from \"FrozenLakeEnv\" in GitHub\n",
        "P = {s : {a : [] for a in range(9)} for s in range(5748)}\n",
        "\n",
        "# Store values into state\n",
        "def storeState(s):\n",
        "  state = copy.deepcopy(s)\n",
        "  \n",
        "  # Determine state id\n",
        "  index = findStateID(state)\n",
        "  \n",
        "  # Create and store the new states \n",
        "  for a in range(0, 9):\n",
        "\n",
        "    nStates = createNewStates(copy.deepcopy(state), a)\n",
        "    n = len(nStates)\n",
        "    p = 1/n\n",
        "    li = P[index][a]\n",
        "    \n",
        "    for nState in nStates:\n",
        "      # Determine the reward / done\n",
        "      done, reward = determineReward(state, nState)\n",
        "      \n",
        "      # Add it to the list!\n",
        "      li.append((p, nState, reward, done))\n",
        "\n",
        "def determineReward(oldState, newState):\n",
        "  \n",
        "  cWin = checkWin(newState)\n",
        "  \n",
        "  # Heavily discourage \"non-moves\"\n",
        "  if (oldState == newState).all():\n",
        "    if cWin[0]:\n",
        "      return [True, -5]\n",
        "    else:\n",
        "      return [False, -5]\n",
        "  \n",
        "  # Check if game is won\n",
        "  if cWin[0]:\n",
        "    # We won!\n",
        "    if cWin[1]:\n",
        "      return [True, 15]\n",
        "    # We lost...\n",
        "    else:\n",
        "      return [True, -15]\n",
        "  # Still in progress\n",
        "  else:\n",
        "    return [False, -1]\n",
        "  \n",
        "      \n",
        "def createNewStates(state, action):\n",
        "  xCoor = findPos(action)\n",
        "  # Check if this action is applicable...\n",
        "  if state[xCoor[0]][xCoor[1]] == 0:\n",
        "    state[xCoor[0]][xCoor[1]] = 1\n",
        "    \n",
        "    # Now populate the grid with the opponents potential actions...\n",
        "    oppCoor = findOpenSpaces(state)\n",
        "    \n",
        "    # Check that this has space for more actions\n",
        "    if len(oppCoor) == 0:\n",
        "      # Nope! Send 'er back now\n",
        "      return [state]\n",
        "    \n",
        "    # Yup! An opponent's action is available\n",
        "    else:\n",
        "      holder = []\n",
        "      for co in oppCoor:\n",
        "        nState = copy.deepcopy(state)\n",
        "        nState[co[0]][co[1]] = -1\n",
        "        holder.append(nState)\n",
        "      # Return all the processed states\n",
        "      return holder\n",
        "    \n",
        "  # Hey! That spot's already occupied...\n",
        "  else:\n",
        "    return [state]\n",
        "\n",
        "# Converts an action to the coordinate it's acting on\n",
        "def findPos(a):\n",
        "  x = int(a % 3)\n",
        "  y = int((a - a % 3)/3)\n",
        "  return [x, y]  "
      ],
      "execution_count": 0,
      "outputs": []
    },
    {
      "cell_type": "code",
      "metadata": {
        "id": "Pjec7xG_Wvg2",
        "colab_type": "code",
        "colab": {}
      },
      "source": [
        "# Update P completely\n",
        "for state in DFS_states:\n",
        "  storeState(state)"
      ],
      "execution_count": 0,
      "outputs": []
    },
    {
      "cell_type": "markdown",
      "metadata": {
        "id": "4WXbCP1sGJUm",
        "colab_type": "text"
      },
      "source": [
        "# Build Environment\n",
        "The code below is a slightly modified version of **discrete.py** from the OpenAI Gym GitHub, with more thorough comments to help explain what is happening and minor modifications to fit the code written above."
      ]
    },
    {
      "cell_type": "code",
      "metadata": {
        "id": "daTbXlZ-GMn6",
        "colab_type": "code",
        "colab": {}
      },
      "source": [
        "# categorical_sample is directly from discrete.py\n",
        "def categorical_sample(prob_n, np_random):\n",
        "    \"\"\"\n",
        "    Sample from categorical distribution\n",
        "    Each row specifies class probabilities\n",
        "    \"\"\"\n",
        "    prob_n = np.asarray(prob_n)\n",
        "    csprob_n = np.cumsum(prob_n)\n",
        "    return (csprob_n > np_random.rand()).argmax()\n",
        "\n",
        "\n",
        "class TicTacToeEnv(Env):\n",
        "  \n",
        "  def __init__(self, P, states):\n",
        "    # Initialization\n",
        "    self.P = P              # Transition information\n",
        "    self.nS = len(states)   # Number of unique states\n",
        "    self.nA = 9             # Number of unique actions\n",
        "    self.seed()\n",
        "    \n",
        "    # Describing spaces\n",
        "    self.action_space = spaces.Discrete(self.nA)\n",
        "    self.observation_space = spaces.Discrete(self.nS)\n",
        "    \n",
        "    # Initial state\n",
        "    # (Note: isd is not required since this is the only initial state)\n",
        "    self.s = np.zeros((3, 3))\n",
        "  \n",
        "  def reset(self):\n",
        "    self.s = np.zeros((3, 3))\n",
        "    return self.s\n",
        "  \n",
        "  def step(self, a):\n",
        "    s_index = findStateID(self.s)\n",
        "    # Access all potential new states, given the particular state and action\n",
        "    transitions = self.P[s_index][a]\n",
        "    \n",
        "    # Choose an option, based on probability provided in transitions\n",
        "    i = categorical_sample([t[0] for t in transitions], self.np_random)\n",
        "    p, s, r, d = transitions[i]\n",
        "    \n",
        "    # Update the state and last action\n",
        "    self.s = s\n",
        "    self.lastaction = a\n",
        "    \n",
        "    # Return required information\n",
        "    return (s, r, d, {\"prob\" : p})\n",
        "      \n",
        "  def seed(self, seed=None):\n",
        "    self.np_random, seed = seeding.np_random(seed)\n",
        "    return [seed]\n",
        "  \n",
        "  def render(self):\n",
        "    drawBoard(self.s)\n",
        "    \n",
        "# Create an Environment\n",
        "env = TicTacToeEnv(P, DFS_states)"
      ],
      "execution_count": 0,
      "outputs": []
    },
    {
      "cell_type": "markdown",
      "metadata": {
        "id": "I8v4T58tRJv9",
        "colab_type": "text"
      },
      "source": [
        "# What is Q-Learning?\n",
        "\n",
        "Q-Learning is a Temporal Difference approach to learning an environment.  It explores a \"large\" number of states, to determine the most efficient policy (action) in any given state to maximize the reward from a system.\n",
        "\n",
        "In summary, it develops a convenient \"cheatsheet\" of rewards for implementing a certain policy in a certain state.  It alternates between exploring, to better learn the environment, and exploiting, to optimize the policy.  It initially starts by purely exploring, and slowly transitions to exploiting near completely.\n",
        "\n",
        "***\n",
        "\n",
        "# Create Q-Agent\n",
        "\n",
        "**Properties**:\n",
        "\n",
        "1. **env**: *The environment the agent is learning.  In this case, Tic-Tac-Toe*\n",
        "\n",
        "2. **learning_rate**: *The amount the change in Q value is weighted*\n",
        "\n",
        "3. **gamma**: *The discount rate, or the value with which function rewards are reducded when evaluating an action's value.*\n",
        "\n",
        "4. **q_table**: *Stores the best actions for the AI in a given state, based on learned experience.*\n",
        "\n",
        "**Functions**:\n",
        "\n",
        "1. **step**(s, tradeoff, epsilon): *Compares epsilon against the tradeoff to determine if the policy for this action is exploitive or explorative.  Returns an action following this policy.*\n",
        "\n",
        "2. **update**(state, act, newState, rew): *Updates the Q-Table, using information already present in the Q-Table and the immediate reward*"
      ]
    },
    {
      "cell_type": "code",
      "metadata": {
        "id": "Rb0X2YnfGcjP",
        "colab_type": "code",
        "colab": {}
      },
      "source": [
        "class Q_Agent:\n",
        "  def __init__(self, env, learning_rate, gamma):\n",
        "    self.env = env\n",
        "    self.observation_space = env.observation_space\n",
        "    self.action_space = env.action_space\n",
        "    self.learning_rate = learning_rate\n",
        "    self.gamma = gamma\n",
        "    self.q_table = np.zeros((self.observation_space.n, self.action_space.n))\n",
        "    \n",
        "  def step(self, state, tradeoff, epsilon):\n",
        "    \n",
        "    s = findStateID(state)\n",
        "    \n",
        "    # Exploit\n",
        "    if tradeoff > epsilon:\n",
        "      action = np.argmax(self.q_table[s,:])\n",
        "    \n",
        "    # Random\n",
        "    else:\n",
        "      action = self.action_space.sample()\n",
        "      \n",
        "    return action\n",
        "  \n",
        "  def update(self, state, act, newState, rew):\n",
        "    s = findStateID(state)\n",
        "    n_s = findStateID(newState)\n",
        "    self.q_table[s, act] = self.q_table[s, act] + ( self.learning_rate * (rew + self.gamma * np.max(self.q_table[n_s, :]) - self.q_table[s, act]) )\n"
      ],
      "execution_count": 0,
      "outputs": []
    },
    {
      "cell_type": "code",
      "metadata": {
        "id": "WdLyjMLSTG46",
        "colab_type": "code",
        "colab": {}
      },
      "source": [
        "q_agent = Q_Agent(env, learning_rate=0.95, gamma=0.96)\n",
        "\n",
        "total_episodes = 2000\n",
        "\n",
        "# Exploration parameters\n",
        "epsilon = 1.0                 # Exploration rate\n",
        "max_epsilon = 1.0             # Exploration probability at start\n",
        "min_epsilon = 0.01            # Minimum exploration probability \n",
        "decay_rate = 0.005            # Exponential decay rate for exploration prob"
      ],
      "execution_count": 0,
      "outputs": []
    },
    {
      "cell_type": "markdown",
      "metadata": {
        "id": "RvBzmu7I_CAY",
        "colab_type": "text"
      },
      "source": [
        "# Training\n",
        "\n",
        "**evaluateEpisode**(state, disp=False): Accepts a state and processes the reward it will receive, incorporating exploring / exploitive actions depending on the value of epsilon\n",
        "\n",
        "**Configuration**:\n",
        "\n",
        "1. Maximum of 2000 episodes were used\n",
        "\n",
        "2. Maximum iterations per episode was used.  *This was intended to prevent slowdown \"exploration\" to same-state actions, i.e. clicking on an already owned tile.*\n",
        "\n",
        " "
      ]
    },
    {
      "cell_type": "code",
      "metadata": {
        "colab_type": "code",
        "outputId": "a31d677d-798e-46dd-ea13-c56a3b6f1ec5",
        "id": "vatbna-reFxh",
        "colab": {
          "base_uri": "https://localhost:8080/",
          "height": 153
        }
      },
      "source": [
        "rewards = []\n",
        "epsilons = []\n",
        "start = time.process_time()\n",
        "\n",
        "def evaluateEpisode(state, disp=False):\n",
        "  totalReward = 0\n",
        "  \n",
        "  # Maximum of 10 permitted actions\n",
        "  for c in range(10):\n",
        "    # Displays the current board, if desired\n",
        "    if disp:\n",
        "      printBoard([state])\n",
        "      \n",
        "    # Determine if action is random / greedy\n",
        "    tradeoff = random.uniform(0, 1)\n",
        "    \n",
        "    # Determine action taken\n",
        "    action = q_agent.step(state, tradeoff, epsilon)\n",
        "    \n",
        "    # Apply the action\n",
        "    newState, reward, done, isd = q_agent.env.step(action)\n",
        "    q_agent.update(state, action, newState, reward)\n",
        "    \n",
        "    # Update values\n",
        "    totalReward += reward\n",
        "    state = newState\n",
        "    \n",
        "    # Reached a terminal state, return the reward\n",
        "    if done:\n",
        "      # Print the final board too!\n",
        "      if disp:\n",
        "        printBoard([state])\n",
        "      return totalReward\n",
        "    \n",
        "  # Finished without reaching a terminal state\n",
        "  return totalReward\n",
        "\n",
        "# Process a large number of states to update Q_table\n",
        "for episode in range(total_episodes):\n",
        "  state = env.reset()\n",
        "\n",
        "  if episode % 500 == 0:\n",
        "    print ('Episode No:', episode)\n",
        "    print('\\tTime elapsed: ' + str(round(time.process_time() - start, 2)))\n",
        "    start = time.process_time()\n",
        "    \n",
        "  totalRewards = evaluateEpisode(state)\n",
        "\n",
        "  epsilon = min_epsilon + (max_epsilon - min_epsilon)*np.exp(-decay_rate*episode)\n",
        "  epsilons.append(epsilon)\n",
        "  rewards.append(totalRewards)"
      ],
      "execution_count": 0,
      "outputs": [
        {
          "output_type": "stream",
          "text": [
            "Episode No: 0\n",
            "\tTime elapsed: 0.0\n",
            "Episode No: 500\n",
            "\tTime elapsed: 72.38\n",
            "Episode No: 1000\n",
            "\tTime elapsed: 65.89\n",
            "Episode No: 1500\n",
            "\tTime elapsed: 61.72\n"
          ],
          "name": "stdout"
        }
      ]
    },
    {
      "cell_type": "markdown",
      "metadata": {
        "id": "IhIzJKEz-7uE",
        "colab_type": "text"
      },
      "source": [
        "# Analysis and Conclusions\n",
        "\n",
        "**Iterations Required**\n",
        "> It requires roughly *1500 epsiodes* to receive a **rolling mean score of approximately 10.5**.  It stabilizes here.\n",
        "\n",
        "> The theoretical maximum for any game is **13 for a three-move win**, and **12 for a four-move win**.  This means while it learns the system, it is not performing optimally.\n",
        "\n",
        "**Averaged Reward**\n",
        "> It remains approximately between **0-10.5**.\n",
        "\n",
        "> The reason for the large range is likely the high point loss for \"pointless\" exploration (clicking on an already occupied tile, -5) compared to success (winning, 15.)\n",
        "\n",
        "> Draws and loses are unlikely causes, as this would force a negative cumulative reward of at least -5.\n",
        "\n",
        "**Runtime**\n",
        "\n",
        "> It costs approximately 0.16-0.20 seconds per episode.\n",
        "\n",
        "> The majority of the runtime cost is likely due to the relatively high cost of looking-up state indexes"
      ]
    },
    {
      "cell_type": "code",
      "metadata": {
        "id": "T3fJq8VNV9yB",
        "colab_type": "code",
        "outputId": "0e8fcfe9-ddca-48dc-9f4f-5b9581feafa6",
        "colab": {
          "base_uri": "https://localhost:8080/",
          "height": 286
        }
      },
      "source": [
        "# Displaying the learning (in terms of reward)\n",
        "\n",
        "df = pd.DataFrame(rewards,columns=['r'])\n",
        "rolling_mean = df['r'].rolling(window=25).mean()\n",
        "plt.plot(rolling_mean)"
      ],
      "execution_count": 0,
      "outputs": [
        {
          "output_type": "execute_result",
          "data": {
            "text/plain": [
              "[<matplotlib.lines.Line2D at 0x7f47f304a550>]"
            ]
          },
          "metadata": {
            "tags": []
          },
          "execution_count": 15
        },
        {
          "output_type": "display_data",
          "data": {
            "image/png": "[encoded data removed]",
            "text/plain": [
              "<Figure size 432x288 with 1 Axes>"
            ]
          },
          "metadata": {
            "tags": []
          }
        }
      ]
    },
    {
      "cell_type": "code",
      "metadata": {
        "id": "DpM8PViKJXho",
        "colab_type": "code",
        "outputId": "39eb66fa-853b-4ac7-d2f5-7b4f4a4b876d",
        "colab": {
          "base_uri": "https://localhost:8080/",
          "height": 578
        }
      },
      "source": [
        "# Sample Episode\n",
        "\n",
        "state = env.reset()\n",
        "print('AI:\\tx\\nRandom:\\to')\n",
        "print('Note that the AI can \"waste\" a turn, but it is punished for doing so.')\n",
        "print('\\nAI\\'s reward: '  + str(evaluateEpisode(state, True)))"
      ],
      "execution_count": 0,
      "outputs": [
        {
          "output_type": "stream",
          "text": [
            "AI:\tx\n",
            "Random:\to\n",
            "Note that the AI can \"waste\" a turn, but it is punished for doing so.\n",
            "\n",
            "\n",
            " | | \n",
            "-----\n",
            " | | \n",
            "-----\n",
            " | | \n",
            "\n",
            "\n",
            "o| | \n",
            "-----\n",
            "x| | \n",
            "-----\n",
            " | | \n",
            "\n",
            "\n",
            "o|o| \n",
            "-----\n",
            "x|x| \n",
            "-----\n",
            " | | \n",
            "\n",
            "\n",
            "o|o| \n",
            "-----\n",
            "x|x|x\n",
            "-----\n",
            " | |o\n",
            "\n",
            "AI's reward: 13\n"
          ],
          "name": "stdout"
        }
      ]
    }
  ]
}